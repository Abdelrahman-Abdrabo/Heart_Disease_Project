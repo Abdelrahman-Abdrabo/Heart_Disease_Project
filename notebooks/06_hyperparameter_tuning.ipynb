{
  "nbformat": 4,
  "nbformat_minor": 0,
  "metadata": {
    "colab": {
      "provenance": []
    },
    "kernelspec": {
      "name": "python3",
      "display_name": "Python 3"
    },
    "language_info": {
      "name": "python"
    }
  },
  "cells": [
    {
      "cell_type": "markdown",
      "source": [
        "# Imports"
      ],
      "metadata": {
        "id": "qOamBV2sgGOa"
      }
    },
    {
      "cell_type": "code",
      "execution_count": 1,
      "metadata": {
        "id": "YuE7JyQ9bNpA"
      },
      "outputs": [],
      "source": [
        "import pandas as pd\n",
        "import numpy as np\n",
        "from sklearn.svm import SVC\n",
        "from sklearn.model_selection import GridSearchCV, RandomizedSearchCV, train_test_split\n",
        "from sklearn.metrics import classification_report, roc_auc_score\n",
        "from sklearn.model_selection import cross_val_score"
      ]
    },
    {
      "cell_type": "code",
      "source": [
        "# Load feature-selected dataset\n",
        "df_selected = pd.read_csv(\"data/heart_disease_selected.csv\")\n",
        "\n",
        "label_col = \"target\"\n",
        "X = df_selected.drop(columns=[label_col])\n",
        "y = df_selected[label_col]\n",
        "\n",
        "# Split\n",
        "X_train, X_test, y_train, y_test = train_test_split(\n",
        "    X, y, test_size=0.2, random_state=42, stratify=y\n",
        ")"
      ],
      "metadata": {
        "id": "D76ma5VGbWO2"
      },
      "execution_count": 2,
      "outputs": []
    },
    {
      "cell_type": "markdown",
      "source": [
        "# Grid Search"
      ],
      "metadata": {
        "id": "00DTpOrTgI95"
      }
    },
    {
      "cell_type": "code",
      "source": [
        "# Define parameter grid for GridSearch\n",
        "param_grid = {\n",
        "    \"C\": [0.1, 1, 10, 100],\n",
        "    \"gamma\": [1, 0.1, 0.01, 0.001],\n",
        "    \"kernel\": [\"rbf\", \"poly\", \"sigmoid\"]\n",
        "}\n",
        "\n",
        "grid = GridSearchCV(\n",
        "    SVC(probability=True, random_state=42),\n",
        "    param_grid,\n",
        "    cv=5,\n",
        "    n_jobs=-1,\n",
        "    verbose=1\n",
        ")\n",
        "\n",
        "grid.fit(X_train, y_train)\n",
        "\n",
        "print(\"Best Parameters (GridSearch):\", grid.best_params_)\n",
        "print(\"Best AUC (GridSearch):\", grid.best_score_)"
      ],
      "metadata": {
        "colab": {
          "base_uri": "https://localhost:8080/"
        },
        "id": "7vopqITxbfMJ",
        "outputId": "bd1684ba-63fc-4e1f-cc4e-38bc69d1f853"
      },
      "execution_count": 3,
      "outputs": [
        {
          "output_type": "stream",
          "name": "stdout",
          "text": [
            "Fitting 5 folds for each of 48 candidates, totalling 240 fits\n",
            "Best Parameters (GridSearch): {'C': 10, 'gamma': 0.001, 'kernel': 'rbf'}\n",
            "Best AUC (GridSearch): 0.8427721088435375\n"
          ]
        }
      ]
    },
    {
      "cell_type": "markdown",
      "source": [
        "# Randomized Search"
      ],
      "metadata": {
        "id": "I5fSQBNDgLlV"
      }
    },
    {
      "cell_type": "code",
      "source": [
        "# Define parameter distributions for RandomizedSearch\n",
        "param_dist = {\n",
        "    \"C\": np.logspace(-2, 2, 20),\n",
        "    \"gamma\": np.logspace(-3, 1, 20),\n",
        "    \"kernel\": [\"rbf\", \"poly\", \"sigmoid\"]\n",
        "}\n",
        "\n",
        "random_search = RandomizedSearchCV(\n",
        "    SVC(probability=True, random_state=42),\n",
        "    param_distributions=param_dist,\n",
        "    n_iter=100,\n",
        "    cv=5,\n",
        "    random_state=42,\n",
        "    n_jobs=-1,\n",
        "    verbose=1\n",
        ")\n",
        "\n",
        "random_search.fit(X_train, y_train)\n",
        "\n",
        "print(\"Best Parameters (RandomizedSearch):\", random_search.best_params_)\n",
        "print(\"Best AUC (RandomizedSearch):\", random_search.best_score_)"
      ],
      "metadata": {
        "colab": {
          "base_uri": "https://localhost:8080/"
        },
        "id": "iSux19-Lbkfa",
        "outputId": "bb873def-9a9f-484b-8540-58375f3e7c50"
      },
      "execution_count": 4,
      "outputs": [
        {
          "output_type": "stream",
          "name": "stdout",
          "text": [
            "Fitting 5 folds for each of 100 candidates, totalling 500 fits\n",
            "Best Parameters (RandomizedSearch): {'kernel': 'rbf', 'gamma': np.float64(0.011288378916846888), 'C': np.float64(1.2742749857031335)}\n",
            "Best AUC (RandomizedSearch): 0.8468537414965986\n"
          ]
        }
      ]
    },
    {
      "cell_type": "markdown",
      "source": [
        "# Comparing Results"
      ],
      "metadata": {
        "id": "XKAN15wbgOtj"
      }
    },
    {
      "cell_type": "code",
      "source": [
        "best_svm = random_search.best_estimator_\n",
        "\n",
        "y_pred = best_svm.predict(X_test)\n",
        "y_proba = best_svm.predict_proba(X_test)[:,1]\n",
        "\n",
        "print(\"Classification Report (Test Data):\\n\", classification_report(y_test, y_pred))\n",
        "print(\"Test AUC:\", roc_auc_score(y_test, y_proba))"
      ],
      "metadata": {
        "colab": {
          "base_uri": "https://localhost:8080/"
        },
        "id": "eoRAar9ObvEg",
        "outputId": "082d9255-af4a-4559-e67e-19269d35adba"
      },
      "execution_count": 5,
      "outputs": [
        {
          "output_type": "stream",
          "name": "stdout",
          "text": [
            "Classification Report (Test Data):\n",
            "               precision    recall  f1-score   support\n",
            "\n",
            "           0       0.94      0.91      0.92        33\n",
            "           1       0.90      0.93      0.91        28\n",
            "\n",
            "    accuracy                           0.92        61\n",
            "   macro avg       0.92      0.92      0.92        61\n",
            "weighted avg       0.92      0.92      0.92        61\n",
            "\n",
            "Test AUC: 0.9588744588744589\n"
          ]
        }
      ]
    },
    {
      "cell_type": "code",
      "source": [
        "baseline_svm = SVC(kernel=\"rbf\", probability=True, random_state=42)\n",
        "scores_base = cross_val_score(baseline_svm, X, y, cv=5, scoring=\"roc_auc\")\n",
        "\n",
        "tuned_svm = random_search.best_estimator_\n",
        "scores_tuned = cross_val_score(tuned_svm, X, y, cv=5, scoring=\"roc_auc\")\n",
        "\n",
        "print(\"Baseline mean AUC:\", scores_base.mean())\n",
        "print(\"Tuned mean AUC:\", scores_tuned.mean())"
      ],
      "metadata": {
        "colab": {
          "base_uri": "https://localhost:8080/"
        },
        "id": "7j77AEsWbyYs",
        "outputId": "53dade6c-433e-430f-afbb-e33dd974df9e"
      },
      "execution_count": 6,
      "outputs": [
        {
          "output_type": "stream",
          "name": "stdout",
          "text": [
            "Baseline mean AUC: 0.8990886042969375\n",
            "Tuned mean AUC: 0.9092968374218374\n"
          ]
        }
      ]
    },
    {
      "cell_type": "markdown",
      "source": [
        "# Thanks"
      ],
      "metadata": {
        "id": "PIl__InVgDz4"
      }
    }
  ]
}